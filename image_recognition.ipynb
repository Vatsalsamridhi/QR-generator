{
  "cells": [
    {
      "cell_type": "markdown",
      "metadata": {
        "id": "view-in-github",
        "colab_type": "text"
      },
      "source": [
        "<a href=\"https://colab.research.google.com/github/Vatsalsamridhi/QR-generator/blob/main/image_recognition.ipynb\" target=\"_parent\"><img src=\"https://colab.research.google.com/assets/colab-badge.svg\" alt=\"Open In Colab\"/></a>"
      ]
    },
    {
      "cell_type": "code",
      "execution_count": null,
      "metadata": {
        "id": "lnYfcoIndLCw"
      },
      "outputs": [],
      "source": []
    },
    {
      "cell_type": "code",
      "execution_count": null,
      "metadata": {
        "colab": {
          "base_uri": "https://localhost:8080/"
        },
        "id": "SFfhbfYAdNQb",
        "outputId": "b7903bdc-dc3b-4388-904c-b136301ff164"
      },
      "outputs": [
        {
          "output_type": "stream",
          "name": "stdout",
          "text": [
            "Downloading data from https://www.cs.toronto.edu/~kriz/cifar-10-python.tar.gz\n",
            "170498071/170498071 [==============================] - 2s 0us/step\n",
            "Epoch 1/10\n",
            "1563/1563 [==============================] - 39s 24ms/step - loss: 1.4471 - accuracy: 0.4826 - val_loss: 1.2339 - val_accuracy: 0.5621\n",
            "Epoch 2/10\n",
            "1563/1563 [==============================] - 38s 24ms/step - loss: 1.1531 - accuracy: 0.5965 - val_loss: 1.1481 - val_accuracy: 0.5980\n",
            "Epoch 3/10\n",
            "1563/1563 [==============================] - 38s 25ms/step - loss: 1.0488 - accuracy: 0.6347 - val_loss: 1.0904 - val_accuracy: 0.6198\n",
            "Epoch 4/10\n",
            "1563/1563 [==============================] - 40s 26ms/step - loss: 0.9791 - accuracy: 0.6578 - val_loss: 1.0683 - val_accuracy: 0.6262\n",
            "Epoch 5/10\n",
            "1563/1563 [==============================] - 37s 24ms/step - loss: 0.9263 - accuracy: 0.6781 - val_loss: 1.0776 - val_accuracy: 0.6307\n",
            "Epoch 6/10\n",
            "1563/1563 [==============================] - 38s 24ms/step - loss: 0.8751 - accuracy: 0.6970 - val_loss: 1.0704 - val_accuracy: 0.6352\n",
            "Epoch 7/10\n",
            "1563/1563 [==============================] - 40s 26ms/step - loss: 0.8365 - accuracy: 0.7090 - val_loss: 1.0993 - val_accuracy: 0.6254\n",
            "Epoch 8/10\n",
            "1563/1563 [==============================] - 39s 25ms/step - loss: 0.7956 - accuracy: 0.7222 - val_loss: 1.0511 - val_accuracy: 0.6422\n",
            "Epoch 9/10\n",
            "1563/1563 [==============================] - 38s 24ms/step - loss: 0.7599 - accuracy: 0.7358 - val_loss: 1.0459 - val_accuracy: 0.6454\n",
            "Epoch 10/10\n",
            "1563/1563 [==============================] - 40s 26ms/step - loss: 0.7266 - accuracy: 0.7477 - val_loss: 1.0542 - val_accuracy: 0.6504\n"
          ]
        }
      ],
      "source": [
        "import tensorflow as tf\n",
        "from tensorflow.keras.datasets import cifar10\n",
        "from tensorflow.keras.utils import to_categorical\n",
        "(x_train,y_train),(x_test,y_test)=cifar10.load_data()\n",
        "x_train=x_train.astype('float32')/255.0\n",
        "x_test=x_test.astype('float32')/255.0\n",
        "y_train=to_categorical(y_train,10)\n",
        "y_test=to_categorical(y_test,10)\n",
        "\n",
        "from tensorflow.keras.models import Sequential\n",
        "from tensorflow.keras.layers import Conv2D,MaxPooling2D,Flatten,Dense\n",
        "model = Sequential([Conv2D(32,(3,3),activation='relu',input_shape=(32,32,3)),MaxPooling2D((2,2)),Flatten(),Dense(64,activation='relu'),Dense(10,activation='softmax')])\n",
        "model.compile(optimizer='adam',loss='categorical_crossentropy',metrics=['accuracy'])\n",
        "model.fit(x_train,y_train,epochs=10,batch_size=32,validation_data=(x_test,y_test))\n",
        "model.evaluate(x_test,y_test)\n",
        "\n",
        "from tensorflow.keras.preprocessing.image import ImageDataGenerator\n",
        "\n",
        "datagen = ImageDataGenerator(rotation_range=20,width_shift_range=0.2,height_shift_range=0.2,horizontal_flip=True)\n",
        "model.fit(datagen.flow(x_train,y_train,batch_size=32),validation_data=(x_test,y_test),epochs=10)\n"
      ]
    },
    {
      "cell_type": "code",
      "execution_count": null,
      "metadata": {
        "id": "mG06H4zCm_hc"
      },
      "outputs": [],
      "source": []
    }
  ],
  "metadata": {
    "colab": {
      "provenance": [],
      "name": "image recognition.ipynb",
      "toc_visible": true,
      "authorship_tag": "ABX9TyMmVbE+p/T0uprorwBDI7id",
      "include_colab_link": true
    },
    "kernelspec": {
      "display_name": "Python 3",
      "name": "python3"
    },
    "language_info": {
      "name": "python"
    }
  },
  "nbformat": 4,
  "nbformat_minor": 0
}